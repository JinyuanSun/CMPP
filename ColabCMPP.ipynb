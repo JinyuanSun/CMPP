{
  "nbformat": 4,
  "nbformat_minor": 0,
  "metadata": {
    "colab": {
      "name": "ColabCMPP.ipynb",
      "provenance": [],
      "collapsed_sections": [],
      "toc_visible": true,
      "authorship_tag": "ABX9TyOrJ2c6EG4apVXbxeo6X53v",
      "include_colab_link": true
    },
    "kernelspec": {
      "name": "python3",
      "display_name": "Python 3"
    },
    "language_info": {
      "name": "python"
    }
  },
  "cells": [
    {
      "cell_type": "markdown",
      "metadata": {
        "id": "view-in-github",
        "colab_type": "text"
      },
      "source": [
        "<a href=\"https://colab.research.google.com/github/JinyuanSun/CMPP/blob/main/ColabCMPP.ipynb\" target=\"_parent\"><img src=\"https://colab.research.google.com/assets/colab-badge.svg\" alt=\"Open In Colab\"/></a>"
      ]
    },
    {
      "cell_type": "code",
      "metadata": {
        "id": "OC4T3XzqzOA8",
        "cellView": "form"
      },
      "source": [
        "#@title Install software\n",
        "\n",
        "#@markdown blastp, hmmscan, and additional databases will \n",
        "#@markdown be downloaded into Colab space.\n",
        "%%capture\n",
        "%%bash\n",
        "pip install venn\n",
        "git clone https://github.com/JinyuanSun/CMPP.git\n",
        "mv CMPP/* ./\n",
        "wget http://wulab.cf/CMPP/funcational.tar.gz\n",
        "tar vczf functional.tar.gz\n",
        "wget https://ftp.ncbi.nlm.nih.gov/blast/executables/blast+/LATEST/ncbi-blast-2.12.0+-x64-linux.tar.gz\n",
        "tar vxzf ncbi-blast-2.12.0+-x64-linux.tar.gz\n",
        "wget http://185.201.226.155/CMPP/functional.tar.gz\n",
        "tar vxzf functional.tar.gz\n",
        "apt install hmmer \n",
        "cp ncbi-blast-2.12.0+/bin/* /usr/bin\n",
        "rm *tar.gz\n"
      ],
      "execution_count": null,
      "outputs": []
    },
    {
      "cell_type": "code",
      "metadata": {
        "id": "CYOIsyci8_tT",
        "cellView": "form"
      },
      "source": [
        "#@title Upload proteins in fasta format\n",
        "\n",
        "#@markdown Once this cell has been executed, upload your fasta file.\n",
        "\n",
        "from google.colab import files\n",
        "\n",
        "uploaded = files.upload()\n",
        "uploaded = list(uploaded.keys())[0]\n",
        "import os\n",
        "os.system(\"mv \" + uploaded + \" protein.faa\")"
      ],
      "execution_count": null,
      "outputs": []
    },
    {
      "cell_type": "code",
      "metadata": {
        "id": "Zo5kdzUrzesT",
        "cellView": "form",
        "colab": {
          "base_uri": "https://localhost:8080/"
        },
        "outputId": "14ae4754-0d88-46ed-92a2-aa2c5eee6d78"
      },
      "source": [
        "#@title Run CMPP\n",
        "\n",
        "%%bash\n",
        "if [ -d \"CMPP_out\" ]; then\n",
        " rm -rf CMPP_out\n",
        "fi\n",
        "\n",
        "./run_CMPP_anno.sh -i protein.faa -d functional\n",
        "zip -FSr CMPP_out.zip CMPP_out"
      ],
      "execution_count": 11,
      "outputs": [
        {
          "output_type": "stream",
          "text": [
            "Process is interrupted.\n"
          ],
          "name": "stdout"
        }
      ]
    },
    {
      "cell_type": "code",
      "metadata": {
        "cellView": "form",
        "id": "OQTYju3RLsLj"
      },
      "source": [
        "#@title Download results!\n",
        "files.download('CMPP_out.zip') "
      ],
      "execution_count": null,
      "outputs": []
    }
  ]
}