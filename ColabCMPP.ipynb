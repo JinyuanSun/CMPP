{
 "cells": [
  {
   "cell_type": "markdown",
   "metadata": {
    "colab_type": "text",
    "id": "view-in-github"
   },
   "source": [
    "<a href=\"https://colab.research.google.com/github/JinyuanSun/CMPP/blob/main/ColabCMPP.ipynb\" target=\"_parent\"><img src=\"https://colab.research.google.com/assets/colab-badge.svg\" alt=\"Open In Colab\"/></a>"
   ]
  },
  {
   "cell_type": "code",
   "execution_count": null,
   "metadata": {
    "cellView": "form",
    "id": "OC4T3XzqzOA8"
   },
   "outputs": [],
   "source": [
    "#@title Install software\n",
    "\n",
    "#@markdown blastp, hmmscan, and additional databases will \n",
    "#@markdown be downloaded into Colab space.\n",
    "%%capture\n",
    "%%bash\n",
    "pip install venn\n",
    "git clone https://github.com/JinyuanSun/CMPP.git\n",
    "mv CMPP/* ./\n",
    "tar vxzf functional.tar.gz\n",
    "wget https://ftp.ncbi.nlm.nih.gov/blast/executables/blast+/2.12.0/ncbi-blast-2.12.0+-x64-linux.tar.gz\n",
    "tar vxzf ncbi-blast-2.12.0+-x64-linux.tar.gz\n",
    "wget http://185.201.226.155/CMPP/functional.tar.gz\n",
    "tar vxzf functional.tar.gz\n",
    "apt install hmmer \n",
    "cp ncbi-blast-2.12.0+/bin/* /usr/bin\n",
    "rm *tar.gz\n"
   ]
  },
  {
   "cell_type": "code",
   "execution_count": null,
   "metadata": {
    "cellView": "form",
    "id": "CYOIsyci8_tT"
   },
   "outputs": [],
   "source": [
    "#@title Upload or Download proteins in fasta format\n",
    "\n",
    "#@markdown Once this cell has been executed, upload your fasta file.\n",
    "\n",
    "from google.colab import files\n",
    "\n",
    "uploaded = files.upload()\n",
    "uploaded = list(uploaded.keys())[0]\n",
    "import os\n",
    "os.system(\"mv \" + uploaded + \" protein.faa\")\n",
    "\n"
   ]
  },
  {
   "cell_type": "code",
   "execution_count": null,
   "metadata": {
    "cellView": "form",
    "id": "W7DytVs2Xfww"
   },
   "outputs": [],
   "source": [
    "%%capture\n",
    "#@title Or download proteins from NCBI directly.\n",
    "Fasta_File_Url = 'https://ftp.ncbi.nlm.nih.gov/genomes/all/GCF/000/732/125/GCF_000732125.1_ScApio1.0/GCF_000732125.1_ScApio1.0_protein.faa.gz' #@param {type:\"string\"}\n",
    "import requests\n",
    "image_url = Fasta_File_Url\n",
    "r = requests.get(image_url) \n",
    "with open(\"protein.faa.gz\",'wb') as f:\n",
    "    f.write(r.content)\n",
    "!gunzip protein.faa.gz\n",
    "!touch FASTA_READY"
   ]
  },
  {
   "cell_type": "code",
   "execution_count": null,
   "metadata": {
    "cellView": "form",
    "colab": {
     "base_uri": "https://localhost:8080/"
    },
    "id": "Zo5kdzUrzesT",
    "outputId": "14ae4754-0d88-46ed-92a2-aa2c5eee6d78"
   },
   "outputs": [
    {
     "name": "stdout",
     "output_type": "stream",
     "text": [
      "Process is interrupted.\n"
     ]
    }
   ],
   "source": [
    "#@title Run CMPP\n",
    "\n",
    "%%bash\n",
    "if [ -d \"CMPP_out\" ]; then\n",
    " rm -rf CMPP_out\n",
    "fi\n",
    "\n",
    "./run_CMPP_anno.sh -i protein.faa -d functional\n",
    "zip -FSr CMPP_out.zip CMPP_out"
   ]
  },
  {
   "cell_type": "code",
   "execution_count": null,
   "metadata": {
    "cellView": "form",
    "id": "OQTYju3RLsLj"
   },
   "outputs": [],
   "source": [
    "#@title Download results!\n",
    "files.download('CMPP_out.zip') "
   ]
  }
 ],
 "metadata": {
  "colab": {
   "authorship_tag": "ABX9TyP+OPHoRUoLRpbjS9lTLSp9",
   "collapsed_sections": [],
   "include_colab_link": true,
   "name": "ColabCMPP.ipynb",
   "provenance": []
  },
  "kernelspec": {
   "display_name": "Python 3",
   "language": "python",
   "name": "python3"
  },
  "language_info": {
   "codemirror_mode": {
    "name": "ipython",
    "version": 3
   },
   "file_extension": ".py",
   "mimetype": "text/x-python",
   "name": "python",
   "nbconvert_exporter": "python",
   "pygments_lexer": "ipython3",
   "version": "3.8.10"
  }
 },
 "nbformat": 4,
 "nbformat_minor": 1
}
