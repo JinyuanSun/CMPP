{
  "nbformat": 4,
  "nbformat_minor": 0,
  "metadata": {
    "colab": {
      "name": "ColabCMPP.ipynb",
      "provenance": [],
      "collapsed_sections": [],
      "authorship_tag": "ABX9TyMg9b74O2fnGo1oykoC3IxD",
      "include_colab_link": true
    },
    "kernelspec": {
      "name": "python3",
      "display_name": "Python 3"
    },
    "language_info": {
      "name": "python"
    }
  },
  "cells": [
    {
      "cell_type": "markdown",
      "metadata": {
        "id": "view-in-github",
        "colab_type": "text"
      },
      "source": [
        "<a href=\"https://colab.research.google.com/github/JinyuanSun/CMPP/blob/main/ColabCMPP.ipynb\" target=\"_parent\"><img src=\"https://colab.research.google.com/assets/colab-badge.svg\" alt=\"Open In Colab\"/></a>"
      ]
    },
    {
      "cell_type": "code",
      "metadata": {
        "cellView": "form",
        "id": "OC4T3XzqzOA8"
      },
      "source": [
        "#@title Install software\n",
        "\n",
        "#@markdown blastp, hmmscan, and additional databases will \n",
        "#@markdown be downloaded into Colab space.\n",
        "\n",
        "%%bash\n",
        "git clone https://github.com/JinyuanSun/CMPP.git\n",
        "mv CMPP/* ./\n",
        "wget http://wulab.cf/CMPP/funcational.tar.gz\n",
        "tar vczf functional.tar.gz\n",
        "wget https://ftp.ncbi.nlm.nih.gov/blast/executables/blast+/LATEST/ncbi-blast-2.12.0+-x64-linux.tar.gz\n",
        "tar vxzf ncbi-blast-2.12.0+-x64-linux.tar.gz\n",
        "wget http://185.201.226.155/CMPP/functional.tar.gz\n",
        "tar vxzf functional.tar.gz\n",
        "apt install hmmer \n",
        "cp ncbi-blast-2.12.0+/bin/* /usr/bin\n",
        "rm *tar.gz\n",
        "clear"
      ],
      "execution_count": null,
      "outputs": []
    },
    {
      "cell_type": "code",
      "metadata": {
        "cellView": "form",
        "id": "CYOIsyci8_tT"
      },
      "source": [
        "#@title Upload proteins in fasta format\n",
        "\n",
        "#@markdown Once this cell has been executed, upload your fasta file.\n",
        "\n",
        "from google.colab import files\n",
        "\n",
        "uploaded = files.upload()\n",
        "uploaded = list(uploaded.keys())[0]\n",
        "import os\n",
        "os.system(\"cp \"+uploaded+ \"protein.faa\")"
      ],
      "execution_count": null,
      "outputs": []
    },
    {
      "cell_type": "code",
      "metadata": {
        "cellView": "form",
        "id": "Zo5kdzUrzesT"
      },
      "source": [
        "#@title Run CMPP pipeline and download your results!\n",
        "\n",
        "\n",
        "%shell pip install venn\n",
        "%shell ./run_CMPP_anno.sh -i protein.faa -d functional\n",
        "\n",
        "!zip -FSr CMPP_out.zip CMPP_out\n",
        "\n",
        "files.download('CMPP_out.zip') "
      ],
      "execution_count": null,
      "outputs": []
    },
    {
      "cell_type": "code",
      "metadata": {
        "id": "Jurc1UkX1BA6"
      },
      "source": [
        "\n"
      ],
      "execution_count": 26,
      "outputs": []
    },
    {
      "cell_type": "code",
      "metadata": {
        "id": "r6gqrKPT8WeH"
      },
      "source": [
        ""
      ],
      "execution_count": null,
      "outputs": []
    }
  ]
}